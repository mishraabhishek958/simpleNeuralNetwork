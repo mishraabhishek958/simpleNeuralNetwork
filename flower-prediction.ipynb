{
 "cells": [
  {
   "cell_type": "code",
   "execution_count": 24,
   "metadata": {},
   "outputs": [],
   "source": [
    "%matplotlib inline"
   ]
  },
  {
   "cell_type": "code",
   "execution_count": 25,
   "metadata": {},
   "outputs": [],
   "source": [
    "from matplotlib import pyplot as plt\n",
    "import numpy as np\n",
    "from random import choice"
   ]
  },
  {
   "cell_type": "code",
   "execution_count": 32,
   "metadata": {},
   "outputs": [
    {
     "data": {
      "image/png": "[encoded data removed]",
      "text/plain": [
       "<Figure size 432x288 with 1 Axes>"
      ]
     },
     "metadata": {
      "needs_background": "light"
     },
     "output_type": "display_data"
    }
   ],
   "source": [
    "dataB1 = [2,1,0]\n",
    "dataB2 = [3,1,0]\n",
    "dataB3 = [2,.5,0]\n",
    "dataB4 = [1,1,0]\n",
    "dataR1 = [3,1.5,1]\n",
    "dataR2 = [4,1.5,1]\n",
    "dataR3 = [3.5,.5,1]\n",
    "dataR4 = [5.5,1,1]\n",
    "\n",
    "dataU = [4.5,1,\"it should be 1\"]\n",
    "all_points = [dataB1,dataB2,dataB3,dataB4,dataR1,dataR2,dataR3,dataR4]\n",
    "\n",
    "plt.axis([0,6,0,6])\n",
    "plt.grid()\n",
    "for i in range(len(all_points)):\n",
    "    point = all_points[i]\n",
    "    color = \"r\"\n",
    "    if point[2]==0:\n",
    "        color = \"b\"\n",
    "    plt.scatter(point[0],point[1],c=color)"
   ]
  },
  {
   "cell_type": "code",
   "execution_count": 27,
   "metadata": {},
   "outputs": [],
   "source": [
    "def sigmoid(x):\n",
    "    return (1/(1+np.exp(-x)))"
   ]
  },
  {
   "cell_type": "code",
   "execution_count": 43,
   "metadata": {},
   "outputs": [
    {
     "name": "stdout",
     "output_type": "stream",
     "text": [
      "1.2906940877595883\n",
      "-1.870363337733502\n",
      "1.4280021367698854\n"
     ]
    }
   ],
   "source": [
    "# training loop\n",
    "\n",
    "w1 = np.random.randn()\n",
    "w2 = np.random.randn()\n",
    "b = np.random.randn()\n",
    "print(w1)\n",
    "print(w2)\n",
    "print(b)\n",
    "\n",
    "learning_rate = 0.2\n",
    "\n",
    "for i in range(50000):\n",
    "    point = choice(all_points)\n",
    "    target = point[2]\n",
    "    z = w1 * point[0] + w2 * point[1] + b\n",
    "    prediction = sigmoid(z)\n",
    "    cost = np.square(prediction - target)\n",
    "\n",
    "    dcost_dpred = 2 * (prediction - target)\n",
    "    dpred_dz = sigmoid(z)*(1 - sigmoid(z))\n",
    "    dz_dw1 = point[0]\n",
    "    dz_dw2 = point[1]\n",
    "    dz_db = 1\n",
    "    dcost_dw1 = dcost_dpred * dpred_dz * dz_dw1\n",
    "    dcost_dw2 = dcost_dpred * dpred_dz * dz_dw2\n",
    "    dcost_db = dcost_dpred * dpred_dz * dz_db\n",
    "    w1 = w1 - learning_rate*dcost_dw1\n",
    "    w2 = w2 - learning_rate*dcost_dw2\n",
    "    b = b - learning_rate*dcost_db\n",
    "    "
   ]
  },
  {
   "cell_type": "code",
   "execution_count": 29,
   "metadata": {},
   "outputs": [
    {
     "name": "stdout",
     "output_type": "stream",
     "text": [
      "[2, 1, 0]\n",
      "pred: 0.0006366996899595301\n",
      "[3, 1, 0]\n",
      "pred: 0.40905037233666647\n",
      "[2, 0.5, 0]\n",
      "pred: 0.00012435898056450384\n",
      "[1, 1, 0]\n",
      "pred: 5.864026167077333e-07\n",
      "[3, 1.5, 1]\n",
      "pred: 0.7800136250132064\n",
      "[4, 1.5, 1]\n",
      "pred: 0.9997404830158132\n",
      "[3.5, 0.5, 1]\n",
      "pred: 0.8166495669456424\n",
      "[5.5, 1, 1]\n",
      "pred: 0.9999999628690606\n"
     ]
    }
   ],
   "source": [
    "# seeing the model prediction\n",
    "\n",
    "for i in range(len(all_points)):\n",
    "    point = all_points[i]\n",
    "    print(point)\n",
    "    z = point[0] * w1 + point[1] * w2 + b\n",
    "    pred = sigmoid(z)\n",
    "    print(\"pred: {}\".format(pred))\n",
    "    "
   ]
  },
  {
   "cell_type": "code",
   "execution_count": 30,
   "metadata": {},
   "outputs": [
    {
     "name": "stdout",
     "output_type": "stream",
     "text": [
      "0.9999596602204704\n"
     ]
    }
   ],
   "source": [
    "z = dataU[0] * w1 + dataU[1] * w2 + b\n",
    "pred = sigmoid(z)\n",
    "print(pred)"
   ]
  },
  {
   "cell_type": "code",
   "execution_count": 40,
   "metadata": {},
   "outputs": [],
   "source": [
    "from win32com.client import Dispatch\n",
    "speak = Dispatch(\"SAPI.SpVoice\")\n",
    "def which_flower(len,width):\n",
    "    z = len * w1 + width * w2 + b\n",
    "    pred = sigmoid(z)\n",
    "    print(pred)\n",
    "    if(pred>0.5):\n",
    "        speak.Speak(\"Red\")\n",
    "    else:\n",
    "        speak.Speak(\"Blue\")\n"
   ]
  },
  {
   "cell_type": "code",
   "execution_count": 41,
   "metadata": {},
   "outputs": [
    {
     "name": "stdout",
     "output_type": "stream",
     "text": [
      "0.9999596602204704\n"
     ]
    }
   ],
   "source": [
    "which_flower(4.5,1)"
   ]
  },
  {
   "cell_type": "code",
   "execution_count": 42,
   "metadata": {},
   "outputs": [
    {
     "name": "stdout",
     "output_type": "stream",
     "text": [
      "1.0\n"
     ]
    }
   ],
   "source": [
    "which_flower(np.inf,np.inf)"
   ]
  },
  {
   "cell_type": "code",
   "execution_count": 50,
   "metadata": {},
   "outputs": [],
   "source": [
    "# scatter points\n",
    "\n",
    "def which(length,width):\n",
    "    z = length * w1 + width * w2 + b\n",
    "    pred = sigmoid(z)\n",
    "    print(pred)\n",
    "    color = \"b\"\n",
    "    if(pred>.5):\n",
    "        color = \"r\"\n",
    "    plt.axis([0,6,0,6])\n",
    "    plt.grid()\n",
    "    plt.scatter(length,width,c=color)"
   ]
  },
  {
   "cell_type": "code",
   "execution_count": 54,
   "metadata": {},
   "outputs": [
    {
     "name": "stdout",
     "output_type": "stream",
     "text": [
      "0.9991367002009557\n"
     ]
    },
    {
     "data": {
      "image/png": "[encoded data removed]",
      "text/plain": [
       "<Figure size 432x288 with 1 Axes>"
      ]
     },
     "metadata": {
      "needs_background": "light"
     },
     "output_type": "display_data"
    }
   ],
   "source": [
    "which(np.pi,np.pi)"
   ]
  },
  {
   "cell_type": "code",
   "execution_count": null,
   "metadata": {},
   "outputs": [],
   "source": []
  }
 ],
 "metadata": {
  "kernelspec": {
   "display_name": "Python 3",
   "language": "python",
   "name": "python3"
  },
  "language_info": {
   "codemirror_mode": {
    "name": "ipython",
    "version": 3
   },
   "file_extension": ".py",
   "mimetype": "text/x-python",
   "name": "python",
   "nbconvert_exporter": "python",
   "pygments_lexer": "ipython3",
   "version": "3.7.0"
  }
 },
 "nbformat": 4,
 "nbformat_minor": 2
}
